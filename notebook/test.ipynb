{
 "cells": [
  {
   "cell_type": "code",
   "execution_count": 1,
   "metadata": {},
   "outputs": [],
   "source": [
    "import os\n",
    "import pandas as pd\n",
    "import json\n",
    "import traceback"
   ]
  },
  {
   "cell_type": "code",
   "execution_count": 2,
   "metadata": {},
   "outputs": [
    {
     "data": {
      "text/plain": [
       "True"
      ]
     },
     "execution_count": 2,
     "metadata": {},
     "output_type": "execute_result"
    }
   ],
   "source": [
    "from langchain.chat_models import ChatOpenAI\n",
    "from dotenv import load_dotenv\n",
    "\n",
    "load_dotenv()"
   ]
  },
  {
   "cell_type": "code",
   "execution_count": 3,
   "metadata": {},
   "outputs": [],
   "source": [
    "key=os.getenv(\"OPENAI_API_KEY\")"
   ]
  },
  {
   "cell_type": "code",
   "execution_count": 4,
   "metadata": {},
   "outputs": [],
   "source": [
    "llm=ChatOpenAI(openai_api_key=key,model_name=\"gpt-3.5-turbo\",temperature=0.6)"
   ]
  },
  {
   "cell_type": "code",
   "execution_count": 5,
   "metadata": {},
   "outputs": [],
   "source": [
    "from langchain.llms import OpenAI\n",
    "from langchain.prompts import PromptTemplate\n",
    "from langchain.chains import LLMChain\n",
    "from langchain.chains import SequentialChain\n",
    "from langchain.callbacks import get_openai_callback\n"
   ]
  },
  {
   "cell_type": "code",
   "execution_count": 6,
   "metadata": {},
   "outputs": [],
   "source": [
    "RESPONSE_JSON = {\n",
    "    \"1\": {\n",
    "        \"mcq\": \"multiple choice question\",\n",
    "        \"options\": {\n",
    "            \"a\": \"choice here\",\n",
    "            \"b\": \"choice here\",\n",
    "            \"c\": \"choice here\",\n",
    "            \"d\": \"choice here\",\n",
    "        },\n",
    "        \"correct\": \"correct answer\",\n",
    "    },\n",
    "    \"2\": {\n",
    "        \"mcq\": \"multiple choice question\",\n",
    "        \"options\": {\n",
    "            \"a\": \"choice here\",\n",
    "            \"b\": \"choice here\",\n",
    "            \"c\": \"choice here\",\n",
    "            \"d\": \"choice here\",\n",
    "        },\n",
    "        \"correct\": \"correct answer\",\n",
    "    },\n",
    "    \"3\": {\n",
    "        \"mcq\": \"multiple choice question\",\n",
    "        \"options\": {\n",
    "            \"a\": \"choice here\",\n",
    "            \"b\": \"choice here\",\n",
    "            \"c\": \"choice here\",\n",
    "            \"d\": \"choice here\",\n",
    "        },\n",
    "        \"correct\": \"correct answer\",\n",
    "    },\n",
    "}"
   ]
  },
  {
   "cell_type": "code",
   "execution_count": 7,
   "metadata": {},
   "outputs": [],
   "source": [
    "TEMPLATE=\"\"\"\n",
    "Text:{text}\n",
    "You are an expert MCQ maker. Given the above text, it is your job to \\\n",
    "create a quiz  of {number} multiple choice questions for {subject} students in {tone} tone. \n",
    "Make sure the questions are not repeated and check all the questions to be conforming the text as well.\n",
    "Make sure to format your response like  RESPONSE_JSON below  and use it as a guide. \\\n",
    "Ensure to make {number} MCQs\n",
    "### RESPONSE_JSON\n",
    "{response_json}\n",
    "\n",
    "\"\"\""
   ]
  },
  {
   "cell_type": "code",
   "execution_count": 8,
   "metadata": {},
   "outputs": [],
   "source": [
    "quiz_gen_prompt=PromptTemplate(\n",
    "    input_variables=['text','number','subject','tone','response_json'],\n",
    "    template=TEMPLATE\n",
    ")"
   ]
  },
  {
   "cell_type": "code",
   "execution_count": 9,
   "metadata": {},
   "outputs": [],
   "source": [
    "quiz_chain=LLMChain(llm=llm,prompt=quiz_gen_prompt,output_key='quiz',verbose=True)"
   ]
  },
  {
   "cell_type": "code",
   "execution_count": 10,
   "metadata": {},
   "outputs": [],
   "source": [
    "TEMPLATE2=\"\"\"\n",
    "You are an expert english grammarian and writer. Given a Multiple Choice Quiz for {subject} students.\\\n",
    "You need to evaluate the complexity of the question and give a complete analysis of the quiz. Only use at max 50 words for complexity analysis. \n",
    "if the quiz is not at per with the cognitive and analytical abilities of the students,\\\n",
    "update the quiz questions which needs to be changed and change the tone such that it perfectly fits the student abilities\n",
    "Quiz_MCQs:\n",
    "{quiz}\n",
    "\n",
    "Check from an expert English Writer of the above quiz:\n",
    "\"\"\""
   ]
  },
  {
   "cell_type": "code",
   "execution_count": 11,
   "metadata": {},
   "outputs": [],
   "source": [
    "quiz_evlauation_prompt=PromptTemplate(\n",
    "    input_variables=['subject','quiz'],\n",
    "    template=TEMPLATE\n",
    ")"
   ]
  },
  {
   "cell_type": "code",
   "execution_count": 12,
   "metadata": {},
   "outputs": [],
   "source": [
    "evlation_chain=LLMChain(llm=llm,prompt=quiz_evlauation_prompt,output_key=\"review\",verbose=True)"
   ]
  },
  {
   "cell_type": "code",
   "execution_count": 19,
   "metadata": {},
   "outputs": [],
   "source": [
    "mcq_chains=SequentialChain(chains=[quiz_chain,evlation_chain],input_variables=['text','number','subject','tone','response_json'],\n",
    "                           output_variables=[\"quiz\", \"review\"], verbose=True,)"
   ]
  },
  {
   "cell_type": "code",
   "execution_count": 26,
   "metadata": {},
   "outputs": [
    {
     "data": {
      "text/plain": [
       "'E:\\\\mcq_generator_OpenAI\\\\data.txt'"
      ]
     },
     "execution_count": 26,
     "metadata": {},
     "output_type": "execute_result"
    }
   ],
   "source": [
    "file_path=r\"E:\\mcq_generator_OpenAI\\data.txt\"\n",
    "file_path"
   ]
  },
  {
   "cell_type": "code",
   "execution_count": 27,
   "metadata": {},
   "outputs": [],
   "source": [
    "with open(file_path,'r') as file:\n",
    "    text=file.read()"
   ]
  },
  {
   "cell_type": "code",
   "execution_count": 28,
   "metadata": {},
   "outputs": [
    {
     "data": {
      "text/plain": [
       "\"Virat Kohli (Hindi pronunciation; born 5 November 1988) is an Indian international cricketer and the former captain of the Indian national cricket team. He currently represents Royal Challengers Bangalore in the IPL and Delhi in domestic cricket. Kohli is widely regarded as one of the greatest batsmen in the history of cricket, and the best of this era.[3] He is the highest run scorer in T20I and IPL. In 2020, the International Cricket Council named him the male cricketer of the decade. Kohli is currently fourth-highest run-scorer in international cricket and stands second in the list of most international centuries scored. He also holds the record for scoring the most centuries in One Day International cricket.[4][5] Kohli was a member of the Indian team that won the 2011 Cricket World Cup and 2013 ICC Champions Trophy.\\n\\nIn 2013, Kohli was ranked number one in the ICC rankings for ODI batsmen. In 2018, he was ranked top Test batsman, making him the only Indian cricketer to hold the number one spot in all three formats of the game. He is the first player to score 20,000 runs in a decade.\\n\\nHe has received many accolades for his performances on the cricket field. He was recognized as the ICC ODI Player of the Year in 2012 and has won the Sir Garfield Sobers Trophy, given to the ICC Cricketer of the Year, on two occasions, in 2017 and 2018 respectively. Subsequently, Kohli also won ICC Test Player of the Year and ICC ODI Player of the Year awards in 2018, becoming the first player to win both awards in the same year. Also, he was named the Wisden Leading Cricketer in the World for three consecutive years, from 2016 to 2018. At the national level, Kohli was honoured with the Arjuna Award in 2013, the Padma Shri under the sports category in 2017 and the Khel Ratna award, India's highest sporting honour, in 2018.\\n\\nIn July 2006, Kohli was selected in the India Under-19 squad on its tour of England. He averaged 105 in the three-match ODI series against England Under-19s,[35] while also averaging 49 in the three-match Test series.[36] Following India Under-19's success in both the ODI and Test series, the team's coach Lalchand Rajput noted Kohli's adeptness in facing both pace and spin bowling and expressed his admiration for profound technical prowess.[37] In September, the India Under-19 team toured Pakistan. In the first Test match, Kohli scored 63 and 28 as India won by 271 runs against Pakistan Under-19s. In the second match, he contributed 83 runs to India's victory by 240 runs and an innings. He concluded the tour with 80 runs in the final ODI game at Lahore.[38] In early 2007, Kohli was a part of the India Under-19 team that toured New Zealand, where he scored 113 in the first Test match. The series ended in a draw with a 1â€“1 score line. In the following month, the team travelled to Malaysia for a tri-series against England Under-19s and Sri Lanka Under-19s, where Kohli did not get many opportunities to bat. In Julyâ€“August, India Under-19 embarked on a tour for a tri-series against Sri Lanka Under-19s and Bangladesh Under-19s, where he did not score a half-century in any of the matches. However, he made a comeback with scores of 144 and an unbeaten 94 in the following Test series.[39]\""
      ]
     },
     "execution_count": 28,
     "metadata": {},
     "output_type": "execute_result"
    }
   ],
   "source": [
    "text"
   ]
  },
  {
   "cell_type": "code",
   "execution_count": 29,
   "metadata": {},
   "outputs": [
    {
     "data": {
      "text/plain": [
       "'{\"1\": {\"mcq\": \"multiple choice question\", \"options\": {\"a\": \"choice here\", \"b\": \"choice here\", \"c\": \"choice here\", \"d\": \"choice here\"}, \"correct\": \"correct answer\"}, \"2\": {\"mcq\": \"multiple choice question\", \"options\": {\"a\": \"choice here\", \"b\": \"choice here\", \"c\": \"choice here\", \"d\": \"choice here\"}, \"correct\": \"correct answer\"}, \"3\": {\"mcq\": \"multiple choice question\", \"options\": {\"a\": \"choice here\", \"b\": \"choice here\", \"c\": \"choice here\", \"d\": \"choice here\"}, \"correct\": \"correct answer\"}}'"
      ]
     },
     "execution_count": 29,
     "metadata": {},
     "output_type": "execute_result"
    }
   ],
   "source": [
    "json.dumps(RESPONSE_JSON)"
   ]
  },
  {
   "cell_type": "code",
   "execution_count": 33,
   "metadata": {},
   "outputs": [],
   "source": [
    "NUMBER= 5\n",
    "SUBJECT= 'cricket'\n",
    "TONE= \"simple\""
   ]
  },
  {
   "cell_type": "code",
   "execution_count": 34,
   "metadata": {},
   "outputs": [
    {
     "name": "stdout",
     "output_type": "stream",
     "text": [
      "\n",
      "\n",
      "\u001b[1m> Entering new SequentialChain chain...\u001b[0m\n",
      "\n",
      "\n",
      "\u001b[1m> Entering new LLMChain chain...\u001b[0m\n",
      "Prompt after formatting:\n",
      "\u001b[32;1m\u001b[1;3m\n",
      "Text:Virat Kohli (Hindi pronunciation; born 5 November 1988) is an Indian international cricketer and the former captain of the Indian national cricket team. He currently represents Royal Challengers Bangalore in the IPL and Delhi in domestic cricket. Kohli is widely regarded as one of the greatest batsmen in the history of cricket, and the best of this era.[3] He is the highest run scorer in T20I and IPL. In 2020, the International Cricket Council named him the male cricketer of the decade. Kohli is currently fourth-highest run-scorer in international cricket and stands second in the list of most international centuries scored. He also holds the record for scoring the most centuries in One Day International cricket.[4][5] Kohli was a member of the Indian team that won the 2011 Cricket World Cup and 2013 ICC Champions Trophy.\n",
      "\n",
      "In 2013, Kohli was ranked number one in the ICC rankings for ODI batsmen. In 2018, he was ranked top Test batsman, making him the only Indian cricketer to hold the number one spot in all three formats of the game. He is the first player to score 20,000 runs in a decade.\n",
      "\n",
      "He has received many accolades for his performances on the cricket field. He was recognized as the ICC ODI Player of the Year in 2012 and has won the Sir Garfield Sobers Trophy, given to the ICC Cricketer of the Year, on two occasions, in 2017 and 2018 respectively. Subsequently, Kohli also won ICC Test Player of the Year and ICC ODI Player of the Year awards in 2018, becoming the first player to win both awards in the same year. Also, he was named the Wisden Leading Cricketer in the World for three consecutive years, from 2016 to 2018. At the national level, Kohli was honoured with the Arjuna Award in 2013, the Padma Shri under the sports category in 2017 and the Khel Ratna award, India's highest sporting honour, in 2018.\n",
      "\n",
      "In July 2006, Kohli was selected in the India Under-19 squad on its tour of England. He averaged 105 in the three-match ODI series against England Under-19s,[35] while also averaging 49 in the three-match Test series.[36] Following India Under-19's success in both the ODI and Test series, the team's coach Lalchand Rajput noted Kohli's adeptness in facing both pace and spin bowling and expressed his admiration for profound technical prowess.[37] In September, the India Under-19 team toured Pakistan. In the first Test match, Kohli scored 63 and 28 as India won by 271 runs against Pakistan Under-19s. In the second match, he contributed 83 runs to India's victory by 240 runs and an innings. He concluded the tour with 80 runs in the final ODI game at Lahore.[38] In early 2007, Kohli was a part of the India Under-19 team that toured New Zealand, where he scored 113 in the first Test match. The series ended in a draw with a 1â€“1 score line. In the following month, the team travelled to Malaysia for a tri-series against England Under-19s and Sri Lanka Under-19s, where Kohli did not get many opportunities to bat. In Julyâ€“August, India Under-19 embarked on a tour for a tri-series against Sri Lanka Under-19s and Bangladesh Under-19s, where he did not score a half-century in any of the matches. However, he made a comeback with scores of 144 and an unbeaten 94 in the following Test series.[39]\n",
      "You are an expert MCQ maker. Given the above text, it is your job to create a quiz  of 5 multiple choice questions for cricket students in simple tone. \n",
      "Make sure the questions are not repeated and check all the questions to be conforming the text as well.\n",
      "Make sure to format your response like  RESPONSE_JSON below  and use it as a guide. Ensure to make 5 MCQs\n",
      "### RESPONSE_JSON\n",
      "{\"1\": {\"mcq\": \"multiple choice question\", \"options\": {\"a\": \"choice here\", \"b\": \"choice here\", \"c\": \"choice here\", \"d\": \"choice here\"}, \"correct\": \"correct answer\"}, \"2\": {\"mcq\": \"multiple choice question\", \"options\": {\"a\": \"choice here\", \"b\": \"choice here\", \"c\": \"choice here\", \"d\": \"choice here\"}, \"correct\": \"correct answer\"}, \"3\": {\"mcq\": \"multiple choice question\", \"options\": {\"a\": \"choice here\", \"b\": \"choice here\", \"c\": \"choice here\", \"d\": \"choice here\"}, \"correct\": \"correct answer\"}}\n",
      "\n",
      "\u001b[0m\n",
      "\n",
      "\u001b[1m> Finished chain.\u001b[0m\n",
      "\n",
      "\n",
      "\u001b[1m> Entering new LLMChain chain...\u001b[0m\n",
      "Prompt after formatting:\n",
      "\u001b[32;1m\u001b[1;3m\n",
      "Text:Virat Kohli (Hindi pronunciation; born 5 November 1988) is an Indian international cricketer and the former captain of the Indian national cricket team. He currently represents Royal Challengers Bangalore in the IPL and Delhi in domestic cricket. Kohli is widely regarded as one of the greatest batsmen in the history of cricket, and the best of this era.[3] He is the highest run scorer in T20I and IPL. In 2020, the International Cricket Council named him the male cricketer of the decade. Kohli is currently fourth-highest run-scorer in international cricket and stands second in the list of most international centuries scored. He also holds the record for scoring the most centuries in One Day International cricket.[4][5] Kohli was a member of the Indian team that won the 2011 Cricket World Cup and 2013 ICC Champions Trophy.\n",
      "\n",
      "In 2013, Kohli was ranked number one in the ICC rankings for ODI batsmen. In 2018, he was ranked top Test batsman, making him the only Indian cricketer to hold the number one spot in all three formats of the game. He is the first player to score 20,000 runs in a decade.\n",
      "\n",
      "He has received many accolades for his performances on the cricket field. He was recognized as the ICC ODI Player of the Year in 2012 and has won the Sir Garfield Sobers Trophy, given to the ICC Cricketer of the Year, on two occasions, in 2017 and 2018 respectively. Subsequently, Kohli also won ICC Test Player of the Year and ICC ODI Player of the Year awards in 2018, becoming the first player to win both awards in the same year. Also, he was named the Wisden Leading Cricketer in the World for three consecutive years, from 2016 to 2018. At the national level, Kohli was honoured with the Arjuna Award in 2013, the Padma Shri under the sports category in 2017 and the Khel Ratna award, India's highest sporting honour, in 2018.\n",
      "\n",
      "In July 2006, Kohli was selected in the India Under-19 squad on its tour of England. He averaged 105 in the three-match ODI series against England Under-19s,[35] while also averaging 49 in the three-match Test series.[36] Following India Under-19's success in both the ODI and Test series, the team's coach Lalchand Rajput noted Kohli's adeptness in facing both pace and spin bowling and expressed his admiration for profound technical prowess.[37] In September, the India Under-19 team toured Pakistan. In the first Test match, Kohli scored 63 and 28 as India won by 271 runs against Pakistan Under-19s. In the second match, he contributed 83 runs to India's victory by 240 runs and an innings. He concluded the tour with 80 runs in the final ODI game at Lahore.[38] In early 2007, Kohli was a part of the India Under-19 team that toured New Zealand, where he scored 113 in the first Test match. The series ended in a draw with a 1â€“1 score line. In the following month, the team travelled to Malaysia for a tri-series against England Under-19s and Sri Lanka Under-19s, where Kohli did not get many opportunities to bat. In Julyâ€“August, India Under-19 embarked on a tour for a tri-series against Sri Lanka Under-19s and Bangladesh Under-19s, where he did not score a half-century in any of the matches. However, he made a comeback with scores of 144 and an unbeaten 94 in the following Test series.[39]\n",
      "You are an expert MCQ maker. Given the above text, it is your job to create a quiz  of 5 multiple choice questions for cricket students in simple tone. \n",
      "Make sure the questions are not repeated and check all the questions to be conforming the text as well.\n",
      "Make sure to format your response like  RESPONSE_JSON below  and use it as a guide. Ensure to make 5 MCQs\n",
      "### RESPONSE_JSON\n",
      "{\"1\": {\"mcq\": \"multiple choice question\", \"options\": {\"a\": \"choice here\", \"b\": \"choice here\", \"c\": \"choice here\", \"d\": \"choice here\"}, \"correct\": \"correct answer\"}, \"2\": {\"mcq\": \"multiple choice question\", \"options\": {\"a\": \"choice here\", \"b\": \"choice here\", \"c\": \"choice here\", \"d\": \"choice here\"}, \"correct\": \"correct answer\"}, \"3\": {\"mcq\": \"multiple choice question\", \"options\": {\"a\": \"choice here\", \"b\": \"choice here\", \"c\": \"choice here\", \"d\": \"choice here\"}, \"correct\": \"correct answer\"}}\n",
      "\n",
      "\u001b[0m\n",
      "\n",
      "\u001b[1m> Finished chain.\u001b[0m\n",
      "\n",
      "\u001b[1m> Finished chain.\u001b[0m\n"
     ]
    }
   ],
   "source": [
    "with get_openai_callback() as cb:\n",
    "    response=mcq_chains(\n",
    "        {\n",
    "            \"text\": text,\n",
    "            \"number\": NUMBER,\n",
    "            \"subject\": SUBJECT,\n",
    "            \"tone\": TONE,\n",
    "            \"response_json\": json.dumps(RESPONSE_JSON)\n",
    "        }\n",
    "    )"
   ]
  },
  {
   "cell_type": "code",
   "execution_count": 35,
   "metadata": {},
   "outputs": [
    {
     "name": "stdout",
     "output_type": "stream",
     "text": [
      "Total Tokens:2753\n",
      "Prompt Tokens:2078\n",
      "Completion Tokens:675\n",
      "Total Cost:0.0044670000000000005\n"
     ]
    }
   ],
   "source": [
    "print(f\"Total Tokens:{cb.total_tokens}\")\n",
    "print(f\"Prompt Tokens:{cb.prompt_tokens}\")\n",
    "print(f\"Completion Tokens:{cb.completion_tokens}\")\n",
    "print(f\"Total Cost:{cb.total_cost}\")"
   ]
  },
  {
   "cell_type": "code",
   "execution_count": 36,
   "metadata": {},
   "outputs": [
    {
     "data": {
      "text/plain": [
       "{'text': \"Virat Kohli (Hindi pronunciation; born 5 November 1988) is an Indian international cricketer and the former captain of the Indian national cricket team. He currently represents Royal Challengers Bangalore in the IPL and Delhi in domestic cricket. Kohli is widely regarded as one of the greatest batsmen in the history of cricket, and the best of this era.[3] He is the highest run scorer in T20I and IPL. In 2020, the International Cricket Council named him the male cricketer of the decade. Kohli is currently fourth-highest run-scorer in international cricket and stands second in the list of most international centuries scored. He also holds the record for scoring the most centuries in One Day International cricket.[4][5] Kohli was a member of the Indian team that won the 2011 Cricket World Cup and 2013 ICC Champions Trophy.\\n\\nIn 2013, Kohli was ranked number one in the ICC rankings for ODI batsmen. In 2018, he was ranked top Test batsman, making him the only Indian cricketer to hold the number one spot in all three formats of the game. He is the first player to score 20,000 runs in a decade.\\n\\nHe has received many accolades for his performances on the cricket field. He was recognized as the ICC ODI Player of the Year in 2012 and has won the Sir Garfield Sobers Trophy, given to the ICC Cricketer of the Year, on two occasions, in 2017 and 2018 respectively. Subsequently, Kohli also won ICC Test Player of the Year and ICC ODI Player of the Year awards in 2018, becoming the first player to win both awards in the same year. Also, he was named the Wisden Leading Cricketer in the World for three consecutive years, from 2016 to 2018. At the national level, Kohli was honoured with the Arjuna Award in 2013, the Padma Shri under the sports category in 2017 and the Khel Ratna award, India's highest sporting honour, in 2018.\\n\\nIn July 2006, Kohli was selected in the India Under-19 squad on its tour of England. He averaged 105 in the three-match ODI series against England Under-19s,[35] while also averaging 49 in the three-match Test series.[36] Following India Under-19's success in both the ODI and Test series, the team's coach Lalchand Rajput noted Kohli's adeptness in facing both pace and spin bowling and expressed his admiration for profound technical prowess.[37] In September, the India Under-19 team toured Pakistan. In the first Test match, Kohli scored 63 and 28 as India won by 271 runs against Pakistan Under-19s. In the second match, he contributed 83 runs to India's victory by 240 runs and an innings. He concluded the tour with 80 runs in the final ODI game at Lahore.[38] In early 2007, Kohli was a part of the India Under-19 team that toured New Zealand, where he scored 113 in the first Test match. The series ended in a draw with a 1â€“1 score line. In the following month, the team travelled to Malaysia for a tri-series against England Under-19s and Sri Lanka Under-19s, where Kohli did not get many opportunities to bat. In Julyâ€“August, India Under-19 embarked on a tour for a tri-series against Sri Lanka Under-19s and Bangladesh Under-19s, where he did not score a half-century in any of the matches. However, he made a comeback with scores of 144 and an unbeaten 94 in the following Test series.[39]\",\n",
       " 'number': 5,\n",
       " 'subject': 'cricket',\n",
       " 'tone': 'simple',\n",
       " 'response_json': '{\"1\": {\"mcq\": \"multiple choice question\", \"options\": {\"a\": \"choice here\", \"b\": \"choice here\", \"c\": \"choice here\", \"d\": \"choice here\"}, \"correct\": \"correct answer\"}, \"2\": {\"mcq\": \"multiple choice question\", \"options\": {\"a\": \"choice here\", \"b\": \"choice here\", \"c\": \"choice here\", \"d\": \"choice here\"}, \"correct\": \"correct answer\"}, \"3\": {\"mcq\": \"multiple choice question\", \"options\": {\"a\": \"choice here\", \"b\": \"choice here\", \"c\": \"choice here\", \"d\": \"choice here\"}, \"correct\": \"correct answer\"}}',\n",
       " 'quiz': '{\"1\": {\"mcq\": \"Virat Kohli currently represents which team in the IPL?\", \"options\": {\"a\": \"Mumbai Indians\", \"b\": \"Royal Challengers Bangalore\", \"c\": \"Chennai Super Kings\", \"d\": \"Kolkata Knight Riders\"}, \"correct\": \"b\"}, \"2\": {\"mcq\": \"In which year was Virat Kohli named the male cricketer of the decade by the International Cricket Council?\", \"options\": {\"a\": \"2010\", \"b\": \"2015\", \"c\": \"2020\", \"d\": \"2025\"}, \"correct\": \"c\"}, \"3\": {\"mcq\": \"What is Virat Kohli\\'s ranking in terms of the highest run-scorer in international cricket?\", \"options\": {\"a\": \"First\", \"b\": \"Second\", \"c\": \"Third\", \"d\": \"Fourth\"}, \"correct\": \"d\"}, \"4\": {\"mcq\": \"Which award did Virat Kohli win in 2017 and 2018, given to the ICC Cricketer of the Year?\", \"options\": {\"a\": \"Sir Garfield Sobers Trophy\", \"b\": \"Arjuna Award\", \"c\": \"Padma Shri\", \"d\": \"Khel Ratna award\"}, \"correct\": \"a\"}, \"5\": {\"mcq\": \"In which year was Virat Kohli recognized as the ICC ODI Player of the Year?\", \"options\": {\"a\": \"2010\", \"b\": \"2012\", \"c\": \"2015\", \"d\": \"2018\"}, \"correct\": \"b\"}}',\n",
       " 'review': '{\"1\": {\"mcq\": \"Who is considered one of the greatest batsmen in the history of cricket?\", \"options\": {\"a\": \"Sachin Tendulkar\", \"b\": \"Virat Kohli\", \"c\": \"Rohit Sharma\", \"d\": \"MS Dhoni\"}, \"correct\": \"b\"}, \"2\": {\"mcq\": \"Which team does Virat Kohli currently represent in the IPL?\", \"options\": {\"a\": \"Mumbai Indians\", \"b\": \"Royal Challengers Bangalore\", \"c\": \"Chennai Super Kings\", \"d\": \"Kolkata Knight Riders\"}, \"correct\": \"b\"}, \"3\": {\"mcq\": \"In which year did Virat Kohli win the ICC Cricketer of the Year award?\", \"options\": {\"a\": \"2012\", \"b\": \"2017\", \"c\": \"2018\", \"d\": \"2016\"}, \"correct\": \"c\"}, \"4\": {\"mcq\": \"Which award did Virat Kohli receive in 2017 under the sports category?\", \"options\": {\"a\": \"Padma Shri\", \"b\": \"Arjuna Award\", \"c\": \"Khel Ratna\", \"d\": \"Bharat Ratna\"}, \"correct\": \"a\"}, \"5\": {\"mcq\": \"In which year did Virat Kohli score 20,000 runs in a decade?\", \"options\": {\"a\": \"2010\", \"b\": \"2015\", \"c\": \"2020\", \"d\": \"2018\"}, \"correct\": \"c\"}}'}"
      ]
     },
     "execution_count": 36,
     "metadata": {},
     "output_type": "execute_result"
    }
   ],
   "source": [
    "response"
   ]
  },
  {
   "cell_type": "code",
   "execution_count": 38,
   "metadata": {},
   "outputs": [],
   "source": [
    "quiz=response.get('quiz')"
   ]
  },
  {
   "cell_type": "code",
   "execution_count": 41,
   "metadata": {},
   "outputs": [],
   "source": [
    "quiz=json.loads(quiz)"
   ]
  },
  {
   "cell_type": "code",
   "execution_count": 42,
   "metadata": {},
   "outputs": [],
   "source": [
    "quiz_table=[]\n",
    "for key,value in quiz.items():\n",
    "    mcq = value[\"mcq\"]\n",
    "    options = \" | \".join(\n",
    "        [\n",
    "            f\"{option}: {option_value}\"\n",
    "            for option, option_value in value[\"options\"].items()\n",
    "            ]\n",
    "        )\n",
    "    correct = value[\"correct\"]\n",
    "    quiz_table.append({\"MCQ\": mcq, \"Choices\": options, \"Correct\": correct})"
   ]
  },
  {
   "cell_type": "code",
   "execution_count": 43,
   "metadata": {},
   "outputs": [
    {
     "data": {
      "text/plain": [
       "[{'MCQ': 'Virat Kohli currently represents which team in the IPL?',\n",
       "  'Choices': 'a: Mumbai Indians | b: Royal Challengers Bangalore | c: Chennai Super Kings | d: Kolkata Knight Riders',\n",
       "  'Correct': 'b'},\n",
       " {'MCQ': 'In which year was Virat Kohli named the male cricketer of the decade by the International Cricket Council?',\n",
       "  'Choices': 'a: 2010 | b: 2015 | c: 2020 | d: 2025',\n",
       "  'Correct': 'c'},\n",
       " {'MCQ': \"What is Virat Kohli's ranking in terms of the highest run-scorer in international cricket?\",\n",
       "  'Choices': 'a: First | b: Second | c: Third | d: Fourth',\n",
       "  'Correct': 'd'},\n",
       " {'MCQ': 'Which award did Virat Kohli win in 2017 and 2018, given to the ICC Cricketer of the Year?',\n",
       "  'Choices': 'a: Sir Garfield Sobers Trophy | b: Arjuna Award | c: Padma Shri | d: Khel Ratna award',\n",
       "  'Correct': 'a'},\n",
       " {'MCQ': 'In which year was Virat Kohli recognized as the ICC ODI Player of the Year?',\n",
       "  'Choices': 'a: 2010 | b: 2012 | c: 2015 | d: 2018',\n",
       "  'Correct': 'b'}]"
      ]
     },
     "execution_count": 43,
     "metadata": {},
     "output_type": "execute_result"
    }
   ],
   "source": [
    "quiz_table"
   ]
  },
  {
   "cell_type": "code",
   "execution_count": 44,
   "metadata": {},
   "outputs": [],
   "source": [
    "quiz=pd.DataFrame(quiz_table)"
   ]
  },
  {
   "cell_type": "code",
   "execution_count": 45,
   "metadata": {},
   "outputs": [],
   "source": [
    "quiz.to_csv('cricketmcq.csv',index=False)"
   ]
  }
 ],
 "metadata": {
  "kernelspec": {
   "display_name": "Python 3",
   "language": "python",
   "name": "python3"
  },
  "language_info": {
   "codemirror_mode": {
    "name": "ipython",
    "version": 3
   },
   "file_extension": ".py",
   "mimetype": "text/x-python",
   "name": "python",
   "nbconvert_exporter": "python",
   "pygments_lexer": "ipython3",
   "version": "3.11.4"
  }
 },
 "nbformat": 4,
 "nbformat_minor": 2
}
